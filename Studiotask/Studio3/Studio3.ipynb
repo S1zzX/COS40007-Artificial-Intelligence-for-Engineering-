{
  "cells": [
    {
      "cell_type": "code",
      "execution_count": 1,
      "metadata": {
        "id": "ftCwyNQLnsAC"
      },
      "outputs": [],
      "source": [
        "import pandas as pd\n",
        "import numpy as np\n",
        "from sklearn import svm\n",
        "from sklearn.model_selection import train_test_split, cross_val_score, GridSearchCV\n",
        "from sklearn.metrics import accuracy_score\n",
        "from sklearn.feature_selection import SelectKBest, f_classif\n",
        "from sklearn.decomposition import PCA\n",
        "from sklearn.ensemble import RandomForestClassifier\n",
        "from sklearn.linear_model import SGDClassifier\n",
        "from sklearn.neural_network import MLPClassifier\n",
        "from sklearn.preprocessing import StandardScaler\n",
        "import warnings\n",
        "warnings.filterwarnings('ignore')"
      ]
    },
    {
      "cell_type": "markdown",
      "metadata": {
        "id": "VKfjzNbL7-qU"
      },
      "source": [
        "## Data Prepare"
      ]
    },
    {
      "cell_type": "code",
      "execution_count": 2,
      "metadata": {
        "colab": {
          "base_uri": "https://localhost:8080/"
        },
        "id": "iwxm-ob9mrsA",
        "outputId": "47f7cb61-d8a3-45f0-8154-249128cca7c7"
      },
      "outputs": [
        {
          "output_type": "stream",
          "name": "stdout",
          "text": [
            "Mounted at /content/drive/\n"
          ]
        }
      ],
      "source": [
        "from google.colab import drive\n",
        "drive.mount('/content/drive/')"
      ]
    },
    {
      "cell_type": "code",
      "execution_count": 3,
      "metadata": {
        "id": "_4qKeROZHwaj"
      },
      "outputs": [],
      "source": [
        "dataset_path = '/content/drive/MyDrive/Colab Notebooks/'"
      ]
    },
    {
      "cell_type": "code",
      "execution_count": 4,
      "metadata": {
        "id": "OEdiV-ue78H6"
      },
      "outputs": [],
      "source": [
        "# Load and combine CSV files\n",
        "w1 = pd.read_csv(dataset_path + 'w1.csv')\n",
        "w2 = pd.read_csv(dataset_path + 'w2.csv')\n",
        "w3 = pd.read_csv(dataset_path + 'w3.csv')\n",
        "w4 = pd.read_csv(dataset_path + 'w4.csv')\n",
        "\n",
        "# Combine all files\n",
        "combined_data = pd.concat([w1, w2, w3, w4], ignore_index=True)\n",
        "combined_data.to_csv('combined_data.csv', index=False)"
      ]
    },
    {
      "cell_type": "code",
      "execution_count": 5,
      "metadata": {
        "id": "V2VG6cAr78KD"
      },
      "outputs": [],
      "source": [
        "# Shuffle the data\n",
        "all_data = combined_data.sample(frac=1, random_state=42).reset_index(drop=True)\n",
        "all_data.to_csv('all_data.csv', index=False)"
      ]
    },
    {
      "cell_type": "markdown",
      "metadata": {
        "id": "Knk8P_nw97OG"
      },
      "source": [
        "## MODEL TRAINING (Basic SVM)"
      ]
    },
    {
      "cell_type": "code",
      "execution_count": 6,
      "metadata": {
        "colab": {
          "base_uri": "https://localhost:8080/"
        },
        "id": "w-uf4D8l78MP",
        "outputId": "24f80976-c74d-4228-b2fb-e69d64ca797e"
      },
      "outputs": [
        {
          "output_type": "stream",
          "name": "stdout",
          "text": [
            "Data shape: (11629, 157)\n",
            "Features shape: (11629, 156), Target shape: (11629,)\n",
            "Running train-test split...\n",
            "Train set: (8140, 156), Test set: (3489, 156)\n",
            "Scaling features...\n",
            "Feature scaling completed\n",
            "Training basic SVM (linear kernel)...\n",
            "Basic SVM training completed\n",
            "Making predictions...\n",
            "Train-test accuracy: 0.9152\n"
          ]
        }
      ],
      "source": [
        "# Separate features and target\n",
        "X = all_data.iloc[:, :-1]\n",
        "y = all_data.iloc[:, -1]\n",
        "print(f\"Data shape: {all_data.shape}\")\n",
        "print(f\"Features shape: {X.shape}, Target shape: {y.shape}\")\n",
        "\n",
        "results = {}\n",
        "\n",
        "# 2a) Train-Test Split (70-30)\n",
        "print(\"Running train-test split...\")\n",
        "X_train, X_test, y_train, y_test = train_test_split(X, y, test_size=0.3, random_state=1)\n",
        "print(f\"Train set: {X_train.shape}, Test set: {X_test.shape}\")\n",
        "\n",
        "# Scale the features\n",
        "print(\"Scaling features...\")\n",
        "scaler = StandardScaler()\n",
        "X_train_scaled = scaler.fit_transform(X_train)\n",
        "X_test_scaled = scaler.transform(X_test)\n",
        "print(\"Feature scaling completed\")\n",
        "\n",
        "print(\"Training basic SVM (linear kernel)...\")\n",
        "clf_basic = svm.SVC(random_state=1)\n",
        "clf_basic.fit(X_train_scaled, y_train)\n",
        "print(\"Basic SVM training completed\")\n",
        "\n",
        "print(\"Making predictions...\")\n",
        "y_pred_basic = clf_basic.predict(X_test_scaled)\n",
        "accuracy_basic_split = accuracy_score(y_test, y_pred_basic)\n",
        "print(f\"Train-test accuracy: {accuracy_basic_split:.4f}\")\n",
        "\n",
        "results['Original features'] = {'train_test': accuracy_basic_split}"
      ]
    },
    {
      "cell_type": "code",
      "execution_count": 8,
      "metadata": {
        "colab": {
          "base_uri": "https://localhost:8080/"
        },
        "id": "fxepOPsTK0XU",
        "outputId": "983c7673-0194-414f-efda-77edd34a39f6"
      },
      "outputs": [
        {
          "output_type": "stream",
          "name": "stdout",
          "text": [
            "Running 10-fold cross-validation...\n",
            "Starting cross-validation (this may take a moment)...\n",
            "Cross-validation completed. Average accuracy: 0.9138\n"
          ]
        }
      ],
      "source": [
        "# 2b) 10-fold Cross-validation\n",
        "print(\"Running 10-fold cross-validation...\")\n",
        "X_scaled = StandardScaler().fit_transform(X)\n",
        "clf_basic = svm.SVC(random_state=1)\n",
        "print(\"Starting cross-validation (this may take a moment)...\")\n",
        "scores_basic_cv = cross_val_score(clf_basic, X_scaled, y, cv=10)\n",
        "accuracy_basic_cv = scores_basic_cv.mean()\n",
        "print(f\"Cross-validation completed. Average accuracy: {accuracy_basic_cv:.4f}\")\n",
        "\n",
        "results['Original features']['cross_val'] = accuracy_basic_cv"
      ]
    },
    {
      "cell_type": "markdown",
      "metadata": {
        "id": "hPGvLsGtCAh1"
      },
      "source": [
        "## HYPERPARAMETER TUNING"
      ]
    },
    {
      "cell_type": "code",
      "execution_count": 9,
      "metadata": {
        "colab": {
          "base_uri": "https://localhost:8080/"
        },
        "id": "r2c5QCjW78Qm",
        "outputId": "ff1756aa-1ecf-4f45-d1e4-15ff6f5166b7"
      },
      "outputs": [
        {
          "output_type": "stream",
          "name": "stdout",
          "text": [
            "Parameter grid: 24 combinations to test\n",
            "Starting GridSearchCV (this will take several minutes)...\n",
            "Fitting 5 folds for each of 24 candidates, totalling 120 fits\n",
            "GridSearchCV completed!\n",
            "Best parameters: {'C': 1, 'gamma': 0.01, 'kernel': 'rbf'}\n",
            "Best CV score: 0.9125\n",
            "Training with optimal parameters...\n"
          ]
        }
      ],
      "source": [
        "# Define parameter grid for RBF kernel\n",
        "param_grid = {\n",
        "    'C': [0.1, 1, 10, 100],\n",
        "    'gamma': ['scale', 'auto', 0.001, 0.01, 0.1, 1],\n",
        "    'kernel': ['rbf']\n",
        "}\n",
        "print(f\"Parameter grid: {len(param_grid['C']) * len(param_grid['gamma'])} combinations to test\")\n",
        "\n",
        "# Grid search with cross-validation\n",
        "print(\"Starting GridSearchCV (this will take several minutes)...\")\n",
        "grid_search = GridSearchCV(svm.SVC(random_state=1), param_grid, cv=5, scoring='accuracy', n_jobs=-1, verbose=1)\n",
        "grid_search.fit(X_train_scaled, y_train)\n",
        "print(\"GridSearchCV completed!\")\n",
        "print(f\"Best parameters: {grid_search.best_params_}\")\n",
        "print(f\"Best CV score: {grid_search.best_score_:.4f}\")\n",
        "\n",
        "# Train with optimal hyperparameters\n",
        "print(\"Training with optimal parameters...\")\n",
        "best_clf = grid_search.best_estimator_"
      ]
    },
    {
      "cell_type": "code",
      "execution_count": 10,
      "metadata": {
        "id": "9fHuYLvo78Sq",
        "colab": {
          "base_uri": "https://localhost:8080/"
        },
        "outputId": "ea524e70-0acd-4b71-bf5e-2a71b0c0705a"
      },
      "outputs": [
        {
          "output_type": "stream",
          "name": "stdout",
          "text": [
            "Tuned model train-test accuracy: 0.9175\n"
          ]
        }
      ],
      "source": [
        "# 3a) Train-Test with tuned hyperparameters\n",
        "y_pred_tuned = best_clf.predict(X_test_scaled)\n",
        "accuracy_tuned_split = accuracy_score(y_test, y_pred_tuned)\n",
        "print(f\"Tuned model train-test accuracy: {accuracy_tuned_split:.4f}\")\n",
        "results['With hyper-parameter tuning'] = {'train_test': accuracy_tuned_split}"
      ]
    },
    {
      "cell_type": "code",
      "execution_count": 11,
      "metadata": {
        "id": "-1n3N0CPnsCn",
        "colab": {
          "base_uri": "https://localhost:8080/"
        },
        "outputId": "af90b8d4-9592-4bbe-c2c2-cd5cdb8892fa"
      },
      "outputs": [
        {
          "output_type": "stream",
          "name": "stdout",
          "text": [
            "Running cross-validation with tuned parameters...\n",
            "Tuned model cross-validation accuracy: 0.9158\n"
          ]
        },
        {
          "output_type": "stream",
          "name": "stderr",
          "text": [
            "[Parallel(n_jobs=1)]: Done  10 out of  10 | elapsed:   59.3s finished\n"
          ]
        }
      ],
      "source": [
        "# 3b) Cross-validation with tuned hyperparameters\n",
        "print(\"Running cross-validation with tuned parameters...\")\n",
        "clf_tuned_cv = svm.SVC(**grid_search.best_params_, random_state=1)\n",
        "scores_tuned_cv = cross_val_score(clf_tuned_cv, X_scaled, y, cv=10, verbose=1)\n",
        "accuracy_tuned_cv = scores_tuned_cv.mean()\n",
        "print(f\"Tuned model cross-validation accuracy: {accuracy_tuned_cv:.4f}\")\n",
        "results['With hyper-parameter tuning']['cross_val'] = accuracy_tuned_cv\n"
      ]
    },
    {
      "cell_type": "markdown",
      "metadata": {
        "id": "IQYs1KUBEmQ1"
      },
      "source": [
        "## FEATURE SELECTION"
      ]
    },
    {
      "cell_type": "code",
      "execution_count": 12,
      "metadata": {
        "id": "bih8MdQInsEu",
        "colab": {
          "base_uri": "https://localhost:8080/"
        },
        "outputId": "b18a8aaa-07b5-4a4f-de1d-a51a9ab0b67e"
      },
      "outputs": [
        {
          "output_type": "stream",
          "name": "stdout",
          "text": [
            "Selecting top 100 features...\n",
            "Features reduced from 156 to 100\n",
            "Splitting selected features...\n"
          ]
        }
      ],
      "source": [
        "print(\"Selecting top 100 features...\")\n",
        "selector = SelectKBest(score_func=f_classif, k=100)\n",
        "X_selected = selector.fit_transform(X_scaled, y)\n",
        "print(f\"Features reduced from {X.shape[1]} to {X_selected.shape[1]}\")\n",
        "\n",
        "# Split the selected features\n",
        "print(\"Splitting selected features...\")\n",
        "X_train_sel, X_test_sel, y_train_sel, y_test_sel = train_test_split(X_selected, y, test_size=0.3, random_state=1)"
      ]
    },
    {
      "cell_type": "code",
      "execution_count": 13,
      "metadata": {
        "id": "qBl6eUQu78Os",
        "colab": {
          "base_uri": "https://localhost:8080/"
        },
        "outputId": "f7114cfe-4326-43b2-e03a-a27240d700ab"
      },
      "outputs": [
        {
          "output_type": "stream",
          "name": "stdout",
          "text": [
            "Training SVM with selected features...\n",
            "Feature selection train-test accuracy: 0.9089\n"
          ]
        }
      ],
      "source": [
        "# 4a) Train-Test with feature selection\n",
        "print(\"Training SVM with selected features...\")\n",
        "clf_selected = svm.SVC(**grid_search.best_params_, random_state=1)\n",
        "clf_selected.fit(X_train_sel, y_train_sel)\n",
        "y_pred_selected = clf_selected.predict(X_test_sel)\n",
        "accuracy_selected_split = accuracy_score(y_test_sel, y_pred_selected)\n",
        "print(f\"Feature selection train-test accuracy: {accuracy_selected_split:.4f}\")\n",
        "results['With feature selection and hyper parameter tuning'] = {'train_test': accuracy_selected_split}"
      ]
    },
    {
      "cell_type": "code",
      "execution_count": 14,
      "metadata": {
        "id": "zrwpzCFkTl62",
        "colab": {
          "base_uri": "https://localhost:8080/"
        },
        "outputId": "cf4a98d4-963a-41b9-9718-1267bfcec02a"
      },
      "outputs": [
        {
          "output_type": "stream",
          "name": "stdout",
          "text": [
            "Running cross-validation with selected features...\n",
            "Feature selection cross-validation accuracy: 0.9082\n"
          ]
        }
      ],
      "source": [
        "# 4b) Cross-validation with feature selection\n",
        "print(\"Running cross-validation with selected features...\")\n",
        "scores_selected_cv = cross_val_score(clf_selected, X_selected, y, cv=10)\n",
        "accuracy_selected_cv = scores_selected_cv.mean()\n",
        "print(f\"Feature selection cross-validation accuracy: {accuracy_selected_cv:.4f}\")\n",
        "results['With feature selection and hyper parameter tuning']['cross_val'] = accuracy_selected_cv"
      ]
    },
    {
      "cell_type": "markdown",
      "metadata": {
        "id": "jMGuJu9nTqt5"
      },
      "source": [
        "## DIMENSIONALITY REDUCTION (PCA)"
      ]
    },
    {
      "cell_type": "code",
      "execution_count": 15,
      "metadata": {
        "id": "LygUJQdqTmBU",
        "colab": {
          "base_uri": "https://localhost:8080/"
        },
        "outputId": "329cf853-a7c0-4370-9784-b261763fcfb4"
      },
      "outputs": [
        {
          "output_type": "stream",
          "name": "stdout",
          "text": [
            "Applying PCA to reduce to 10 components...\n",
            "PCA completed. Explained variance: 0.7205\n"
          ]
        }
      ],
      "source": [
        "# Apply PCA to get 10 principal components\n",
        "print(\"Applying PCA to reduce to 10 components...\")\n",
        "pca = PCA(n_components=10)\n",
        "X_pca = pca.fit_transform(X_scaled)\n",
        "print(f\"PCA completed. Explained variance: {pca.explained_variance_ratio_.sum():.4f}\")\n",
        "\n",
        "# Split the PCA features\n",
        "X_train_pca, X_test_pca, y_train_pca, y_test_pca = train_test_split(X_pca, y, test_size=0.3, random_state=1)\n"
      ]
    },
    {
      "cell_type": "code",
      "execution_count": 16,
      "metadata": {
        "id": "-_mz_o9NTmDg",
        "colab": {
          "base_uri": "https://localhost:8080/"
        },
        "outputId": "6ec1c165-4a2f-46ae-82cd-a73db688cce7"
      },
      "outputs": [
        {
          "output_type": "stream",
          "name": "stdout",
          "text": [
            "Training SVM with PCA features...\n",
            "PCA train-test accuracy: 0.9003\n"
          ]
        }
      ],
      "source": [
        "# 5a) Train-Test with PCA\n",
        "print(\"Training SVM with PCA features...\")\n",
        "clf_pca = svm.SVC(**grid_search.best_params_, random_state=1)\n",
        "clf_pca.fit(X_train_pca, y_train_pca)\n",
        "y_pred_pca = clf_pca.predict(X_test_pca)\n",
        "accuracy_pca_split = accuracy_score(y_test_pca, y_pred_pca)\n",
        "print(f\"PCA train-test accuracy: {accuracy_pca_split:.4f}\")\n",
        "results['With PCA and hyper parameter tuning'] = {'train_test': accuracy_pca_split}"
      ]
    },
    {
      "cell_type": "code",
      "execution_count": 17,
      "metadata": {
        "id": "ySUMVdVgTmF1",
        "colab": {
          "base_uri": "https://localhost:8080/"
        },
        "outputId": "6cd3a108-6c9d-45bd-cdfd-13d8c5754a35"
      },
      "outputs": [
        {
          "output_type": "stream",
          "name": "stdout",
          "text": [
            "Running cross-validation with PCA features...\n",
            "PCA cross-validation accuracy: 0.9030\n"
          ]
        }
      ],
      "source": [
        "# 5b) Cross-validation with PCA\n",
        "print(\"Running cross-validation with PCA features...\")\n",
        "scores_pca_cv = cross_val_score(clf_pca, X_pca, y, cv=10)\n",
        "accuracy_pca_cv = scores_pca_cv.mean()\n",
        "print(f\"PCA cross-validation accuracy: {accuracy_pca_cv:.4f}\")\n",
        "results['With PCA and hyper parameter tuning']['cross_val'] = accuracy_pca_cv"
      ]
    },
    {
      "cell_type": "markdown",
      "metadata": {
        "id": "N_Q0DPEOT8Ou"
      },
      "source": [
        "## SUMMARY TABLE (SVM Models)"
      ]
    },
    {
      "cell_type": "code",
      "execution_count": 18,
      "metadata": {
        "id": "m3LJwgLST-TH",
        "colab": {
          "base_uri": "https://localhost:8080/"
        },
        "outputId": "136dae25-1572-4bc2-ec50-961d1327d743"
      },
      "outputs": [
        {
          "output_type": "stream",
          "name": "stdout",
          "text": [
            "ACTIVITY 6: SVM MODELS SUMMARY TABLE\n",
            "SVM Model                                Train-test split     Cross-validation    \n",
            "--------------------------------------------------------------------------------\n",
            "Original features                                     91.52%              91.38%\n",
            "With hyper-parameter tuning                           91.75%              91.58%\n",
            "With feature selection and hyper parameter tuning              90.89%              90.82%\n",
            "With PCA and hyper parameter tuning                   90.03%              90.30%\n"
          ]
        }
      ],
      "source": [
        "print(\"ACTIVITY 6: SVM MODELS SUMMARY TABLE\")\n",
        "print(f\"{'SVM Model':<40} {'Train-test split':<20} {'Cross-validation':<20}\")\n",
        "print(\"-\" * 80)\n",
        "for model_name, scores in results.items():\n",
        "    train_test_acc = scores['train_test'] * 100\n",
        "    cross_val_acc = scores['cross_val'] * 100\n",
        "    print(f\"{model_name:<40} {train_test_acc:>18.2f}% {cross_val_acc:>18.2f}%\")\n"
      ]
    },
    {
      "cell_type": "markdown",
      "metadata": {
        "id": "UvoQ02j7XRrg"
      },
      "source": [
        "## THER CLASSIFIERS"
      ]
    },
    {
      "cell_type": "code",
      "execution_count": 19,
      "metadata": {
        "id": "6XSgnoB7XRw3",
        "colab": {
          "base_uri": "https://localhost:8080/"
        },
        "outputId": "d2d30dd3-3648-470d-d29e-f61a1df78a96"
      },
      "outputs": [
        {
          "output_type": "stream",
          "name": "stdout",
          "text": [
            "Training SGD Classifier...\n",
            "SGD cross-validation...\n",
            "SGD completed - Train-Test: 0.9000, CV: 0.8940\n"
          ]
        }
      ],
      "source": [
        "other_results = {}\n",
        "\n",
        "# SGD Classifier\n",
        "print(\"Training SGD Classifier...\")\n",
        "sgd_clf = SGDClassifier(random_state=1, max_iter=1000)\n",
        "sgd_clf.fit(X_train_scaled, y_train)\n",
        "y_pred_sgd = sgd_clf.predict(X_test_scaled)\n",
        "sgd_train_test = accuracy_score(y_test, y_pred_sgd)\n",
        "print(\"SGD cross-validation...\")\n",
        "sgd_cv_scores = cross_val_score(sgd_clf, X_scaled, y, cv=10)\n",
        "sgd_cv = sgd_cv_scores.mean()\n",
        "other_results['SGD'] = {'train_test': sgd_train_test, 'cross_val': sgd_cv}\n",
        "print(f\"SGD completed - Train-Test: {sgd_train_test:.4f}, CV: {sgd_cv:.4f}\")\n"
      ]
    },
    {
      "cell_type": "code",
      "execution_count": 20,
      "metadata": {
        "id": "LXG3ROKjXeou",
        "colab": {
          "base_uri": "https://localhost:8080/"
        },
        "outputId": "7b3fdee4-0a5e-4e92-c8aa-ac8bdc6d6eb3"
      },
      "outputs": [
        {
          "output_type": "stream",
          "name": "stdout",
          "text": [
            "Training Random Forest Classifier...\n",
            "Random Forest cross-validation...\n",
            "Random Forest completed - Train-Test: 0.9249, CV: 0.9257\n"
          ]
        }
      ],
      "source": [
        "# Random Forest Classifier\n",
        "print(\"Training Random Forest Classifier...\")\n",
        "rf_clf = RandomForestClassifier(n_estimators=100, random_state=1)\n",
        "rf_clf.fit(X_train_scaled, y_train)\n",
        "y_pred_rf = rf_clf.predict(X_test_scaled)\n",
        "rf_train_test = accuracy_score(y_test, y_pred_rf)\n",
        "print(\"Random Forest cross-validation...\")\n",
        "rf_cv_scores = cross_val_score(rf_clf, X_scaled, y, cv=10)\n",
        "rf_cv = rf_cv_scores.mean()\n",
        "other_results['RandomForest'] = {'train_test': rf_train_test, 'cross_val': rf_cv}\n",
        "print(f\"Random Forest completed - Train-Test: {rf_train_test:.4f}, CV: {rf_cv:.4f}\")"
      ]
    },
    {
      "cell_type": "code",
      "execution_count": 21,
      "metadata": {
        "id": "qklMDQCoXgWE",
        "colab": {
          "base_uri": "https://localhost:8080/"
        },
        "outputId": "4599d599-214d-4e52-c971-6fde2252d12a"
      },
      "outputs": [
        {
          "output_type": "stream",
          "name": "stdout",
          "text": [
            "Training MLP Classifier...\n",
            "MLP cross-validation...\n",
            "MLP completed - Train-Test: 0.8897, CV: 0.8957\n"
          ]
        }
      ],
      "source": [
        "# MLP Classifier\n",
        "print(\"Training MLP Classifier...\")\n",
        "mlp_clf = MLPClassifier(hidden_layer_sizes=(100,), max_iter=500, random_state=1)\n",
        "mlp_clf.fit(X_train_scaled, y_train)\n",
        "y_pred_mlp = mlp_clf.predict(X_test_scaled)\n",
        "mlp_train_test = accuracy_score(y_test, y_pred_mlp)\n",
        "print(\"MLP cross-validation...\")\n",
        "mlp_cv_scores = cross_val_score(mlp_clf, X_scaled, y, cv=10)\n",
        "mlp_cv = mlp_cv_scores.mean()\n",
        "other_results['MLP'] = {'train_test': mlp_train_test, 'cross_val': mlp_cv}\n",
        "print(f\"MLP completed - Train-Test: {mlp_train_test:.4f}, CV: {mlp_cv:.4f}\")"
      ]
    },
    {
      "cell_type": "code",
      "execution_count": 22,
      "metadata": {
        "id": "ti7HbIrrXjxr",
        "colab": {
          "base_uri": "https://localhost:8080/"
        },
        "outputId": "6f3a1e6e-83fa-495b-fd72-f4317a890937"
      },
      "outputs": [
        {
          "output_type": "stream",
          "name": "stdout",
          "text": [
            "FINAL COMPARISON: ALL CLASSIFIERS\n",
            "Model           Train-test split     Cross-validation    \n",
            "-------------------------------------------------------\n",
            "SGD                          90.00%              89.40%\n",
            "RandomForest                 92.49%              92.57%\n",
            "MLP                          88.97%              89.57%\n",
            "SVM                          91.75%              91.58%\n",
            "ALL ACTIVITIES COMPLETED!\n"
          ]
        }
      ],
      "source": [
        "# Add tuned SVM results for comparison\n",
        "other_results['SVM'] = {'train_test': accuracy_tuned_split, 'cross_val': accuracy_tuned_cv}\n",
        "\n",
        "# Final Summary Table\n",
        "print(\"FINAL COMPARISON: ALL CLASSIFIERS\")\n",
        "print(f\"{'Model':<15} {'Train-test split':<20} {'Cross-validation':<20}\")\n",
        "print(\"-\" * 55)\n",
        "for model_name, scores in other_results.items():\n",
        "    train_test_acc = scores['train_test'] * 100\n",
        "    cross_val_acc = scores['cross_val'] * 100\n",
        "    print(f\"{model_name:<15} {train_test_acc:>18.2f}% {cross_val_acc:>18.2f}%\")\n",
        "\n",
        "print(\"ALL ACTIVITIES COMPLETED!\")"
      ]
    }
  ],
  "metadata": {
    "accelerator": "GPU",
    "colab": {
      "gpuType": "T4",
      "provenance": []
    },
    "kernelspec": {
      "display_name": "Python 3",
      "name": "python3"
    },
    "language_info": {
      "name": "python"
    }
  },
  "nbformat": 4,
  "nbformat_minor": 0
}