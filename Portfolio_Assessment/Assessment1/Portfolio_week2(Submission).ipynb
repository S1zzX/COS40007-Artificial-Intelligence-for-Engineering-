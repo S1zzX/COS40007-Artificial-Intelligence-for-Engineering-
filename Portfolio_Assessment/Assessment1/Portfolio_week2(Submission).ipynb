{
  "nbformat": 4,
  "nbformat_minor": 0,
  "metadata": {
    "colab": {
      "provenance": []
    },
    "kernelspec": {
      "name": "python3",
      "display_name": "Python 3"
    },
    "language_info": {
      "name": "python"
    }
  },
  "cells": [
    {
      "cell_type": "code",
      "execution_count": 2,
      "metadata": {
        "colab": {
          "base_uri": "https://localhost:8080/"
        },
        "id": "Ck5kSKNVCm1R",
        "outputId": "2e517f03-93fc-4f45-c8b1-ea56d17c5d01"
      },
      "outputs": [
        {
          "output_type": "stream",
          "name": "stdout",
          "text": [
            "Mounted at /content/drive\n"
          ]
        }
      ],
      "source": [
        "from google.colab import drive\n",
        "drive.mount('/content/drive')"
      ]
    },
    {
      "cell_type": "markdown",
      "source": [
        "## Import libraries"
      ],
      "metadata": {
        "id": "-a9Q33YNE_j7"
      }
    },
    {
      "cell_type": "code",
      "source": [
        "# Import libraries\n",
        "import pandas as pd\n",
        "import numpy as np\n",
        "import matplotlib.pyplot as plt\n",
        "import seaborn as sns\n",
        "from sklearn.tree import DecisionTreeClassifier\n",
        "from sklearn.model_selection import train_test_split\n",
        "from sklearn.metrics import accuracy_score, classification_report\n",
        "from sklearn.preprocessing import StandardScaler\n",
        "import warnings\n",
        "warnings.filterwarnings('ignore')"
      ],
      "metadata": {
        "id": "uoLBSZjFE_Qm"
      },
      "execution_count": 3,
      "outputs": []
    },
    {
      "cell_type": "code",
      "source": [
        "df = pd.read_csv(\"/content/drive/My Drive/water_potability.csv\")"
      ],
      "metadata": {
        "id": "MvjujFCBFU6d"
      },
      "execution_count": 4,
      "outputs": []
    },
    {
      "cell_type": "markdown",
      "source": [
        "## Understand the data"
      ],
      "metadata": {
        "id": "diMxp0A5ILVn"
      }
    },
    {
      "cell_type": "code",
      "source": [
        "# Initial data overview\n",
        "print(\"INITIAL DATA OVERVIEW:\")\n",
        "print(f\"Dataset shape: {df.shape}\")\n",
        "print(f\"Columns: {list(df.columns)}\")\n",
        "print(\"\\nFirst 5 rows:\")\n",
        "print(df.head())\n",
        "print(\"\\nMissing values:\")\n",
        "print(df.isnull().sum())"
      ],
      "metadata": {
        "colab": {
          "base_uri": "https://localhost:8080/"
        },
        "id": "Yvoewz1YnM3Z",
        "outputId": "289edd4a-c0a9-4faf-d3fe-c992c6a8a66d"
      },
      "execution_count": 5,
      "outputs": [
        {
          "output_type": "stream",
          "name": "stdout",
          "text": [
            "INITIAL DATA OVERVIEW:\n",
            "Dataset shape: (3276, 10)\n",
            "Columns: ['ph', 'Hardness', 'Solids', 'Chloramines', 'Sulfate', 'Conductivity', 'Organic_carbon', 'Trihalomethanes', 'Turbidity', 'Potability']\n",
            "\n",
            "First 5 rows:\n",
            "         ph    Hardness        Solids  Chloramines     Sulfate  Conductivity  \\\n",
            "0       NaN  204.890455  20791.318981     7.300212  368.516441    564.308654   \n",
            "1  3.716080  129.422921  18630.057858     6.635246         NaN    592.885359   \n",
            "2  8.099124  224.236259  19909.541732     9.275884         NaN    418.606213   \n",
            "3  8.316766  214.373394  22018.417441     8.059332  356.886136    363.266516   \n",
            "4  9.092223  181.101509  17978.986339     6.546600  310.135738    398.410813   \n",
            "\n",
            "   Organic_carbon  Trihalomethanes  Turbidity  Potability  \n",
            "0       10.379783        86.990970   2.963135           0  \n",
            "1       15.180013        56.329076   4.500656           0  \n",
            "2       16.868637        66.420093   3.055934           0  \n",
            "3       18.436524       100.341674   4.628771           0  \n",
            "4       11.558279        31.997993   4.075075           0  \n",
            "\n",
            "Missing values:\n",
            "ph                 491\n",
            "Hardness             0\n",
            "Solids               0\n",
            "Chloramines          0\n",
            "Sulfate            781\n",
            "Conductivity         0\n",
            "Organic_carbon       0\n",
            "Trihalomethanes    162\n",
            "Turbidity            0\n",
            "Potability           0\n",
            "dtype: int64\n"
          ]
        }
      ]
    },
    {
      "cell_type": "markdown",
      "source": [
        "## Cleaning Data"
      ],
      "metadata": {
        "id": "QzKE6s1fKmql"
      }
    },
    {
      "cell_type": "code",
      "source": [
        "print(\"\\nDATA CLEANING:\")\n",
        "numerical_cols = df.select_dtypes(include=[np.number]).columns\n",
        "for col in numerical_cols:\n",
        "    if df[col].isnull().sum() > 0:\n",
        "        df[col].fillna(df[col].median(), inplace=True)\n",
        "        print(f\"Filled {col} missing values with median\")\n",
        "print(f\"Missing values after cleaning: {df.isnull().sum().sum()}\")"
      ],
      "metadata": {
        "colab": {
          "base_uri": "https://localhost:8080/"
        },
        "id": "t14fNS9DngPY",
        "outputId": "8b6a44a7-926f-41c1-be3e-b1e271d7c48c"
      },
      "execution_count": 6,
      "outputs": [
        {
          "output_type": "stream",
          "name": "stdout",
          "text": [
            "\n",
            "DATA CLEANING:\n",
            "Filled ph missing values with median\n",
            "Filled Sulfate missing values with median\n",
            "Filled Trihalomethanes missing values with median\n",
            "Missing values after cleaning: 0\n"
          ]
        }
      ]
    },
    {
      "cell_type": "markdown",
      "source": [
        "## Work"
      ],
      "metadata": {
        "id": "j5A8Gg3RvIkm"
      }
    },
    {
      "cell_type": "code",
      "source": [
        "# Basic EDA for understanding\n",
        "print(\"\\nBASIC EDA:\")\n",
        "print(\"Target variable distribution:\")\n",
        "print(df['Potability'].value_counts())\n",
        "print(f\"Class balance: {df['Potability'].value_counts(normalize=True)}\")"
      ],
      "metadata": {
        "colab": {
          "base_uri": "https://localhost:8080/"
        },
        "id": "OEP-a55avLGV",
        "outputId": "cc83d27f-56da-4236-992c-06dcacc7427d"
      },
      "execution_count": 7,
      "outputs": [
        {
          "output_type": "stream",
          "name": "stdout",
          "text": [
            "\n",
            "BASIC EDA:\n",
            "Target variable distribution:\n",
            "Potability\n",
            "0    1998\n",
            "1    1278\n",
            "Name: count, dtype: int64\n",
            "Class balance: Potability\n",
            "0    0.60989\n",
            "1    0.39011\n",
            "Name: proportion, dtype: float64\n"
          ]
        }
      ]
    },
    {
      "cell_type": "code",
      "source": [
        "# Correlation analysis for feature engineering insights\n",
        "correlation_matrix = df.corr()\n",
        "print(\"\\nTop correlations with target:\")\n",
        "target_corr = abs(correlation_matrix['Potability']).sort_values(ascending=False)\n",
        "print(target_corr.head(6))"
      ],
      "metadata": {
        "colab": {
          "base_uri": "https://localhost:8080/"
        },
        "id": "wzJu6AvLvSag",
        "outputId": "202148e2-8b09-452b-a2ed-986e83acd75e"
      },
      "execution_count": 8,
      "outputs": [
        {
          "output_type": "stream",
          "name": "stdout",
          "text": [
            "\n",
            "Top correlations with target:\n",
            "Potability        1.000000\n",
            "Solids            0.033743\n",
            "Organic_carbon    0.030001\n",
            "Chloramines       0.023779\n",
            "Sulfate           0.020476\n",
            "Hardness          0.013837\n",
            "Name: Potability, dtype: float64\n"
          ]
        }
      ]
    },
    {
      "cell_type": "markdown",
      "source": [
        "## REQUIREMENT 1: DEFINE 3-5 CLASS LABELS & BALANCED DISTRIBUTION"
      ],
      "metadata": {
        "id": "AVdU260mynhz"
      }
    },
    {
      "cell_type": "code",
      "source": [
        "# Check if target variable is numerical or categorical\n",
        "print(f\"Target variable 'Potability' type: {df['Potability'].dtype}\")\n",
        "print(f\"Unique values: {df['Potability'].unique()}\")\n",
        "print(f\"Current distribution: {df['Potability'].value_counts().sort_index().to_dict()}\")\n",
        "\n",
        "# According to requirement: if categorical, leave as is. If numerical, create 3-5 classes\n",
        "if df['Potability'].dtype in ['int64', 'float64'] and len(df['Potability'].unique()) > 10:\n",
        "    print(\"\\nTarget is numerical with many values - creating balanced classes...\")\n",
        "    df['potability_classes'] = pd.qcut(df['Potability'], q=4, labels=['Class_1', 'Class_2', 'Class_3', 'Class_4'])\n",
        "    df['target_variable'] = pd.Categorical(df['potability_classes']).codes\n",
        "    target_col = 'target_variable'\n",
        "    print(\"Created 4 balanced classes from numerical target\")\n",
        "else:\n",
        "    print(\"\\nTarget is categorical (binary) - keeping as per requirement\")\n",
        "    target_col = 'Potability'\n",
        "    df['target_variable'] = df['Potability']\n",
        "    print(\"Using original binary classification\")\n",
        "\n",
        "# DEMONSTRATION: Create 4-class alternative from pH to show understanding\n",
        "print(\"\\nDEMONSTRATION - Creating 4 balanced classes from pH (numerical feature):\")\n",
        "df['pH_quartiles'] = pd.qcut(df['ph'], q=4, labels=['Very_Acidic', 'Acidic', 'Basic', 'Very_Basic'])\n",
        "df['pH_4class'] = pd.Categorical(df['pH_quartiles']).codes\n",
        "\n",
        "print(\"pH-based 4-class distribution:\")\n",
        "ph_class_dist = df['pH_4class'].value_counts().sort_index()\n",
        "print(ph_class_dist.to_dict())\n",
        "print(f\"Balanced distribution: {df['pH_4class'].value_counts(normalize=True).round(3).to_dict()}\")\n"
      ],
      "metadata": {
        "colab": {
          "base_uri": "https://localhost:8080/"
        },
        "id": "orS8d_v7vUnQ",
        "outputId": "8b0d7b9b-60ec-458f-b0f8-733168ae1a55"
      },
      "execution_count": 9,
      "outputs": [
        {
          "output_type": "stream",
          "name": "stdout",
          "text": [
            "Target variable 'Potability' type: int64\n",
            "Unique values: [0 1]\n",
            "Current distribution: {0: 1998, 1: 1278}\n",
            "\n",
            "Target is categorical (binary) - keeping as per requirement\n",
            "Using original binary classification\n",
            "\n",
            "DEMONSTRATION - Creating 4 balanced classes from pH (numerical feature):\n",
            "pH-based 4-class distribution:\n",
            "{0: 819, 1: 1065, 2: 573, 3: 819}\n",
            "Balanced distribution: {1: 0.325, 0: 0.25, 3: 0.25, 2: 0.175}\n"
          ]
        }
      ]
    },
    {
      "cell_type": "markdown",
      "source": [
        "## REQUIREMENT 2: NORMALIZATION & INTEGER CATEGORIZATION"
      ],
      "metadata": {
        "id": "l5r763W_0BBd"
      }
    },
    {
      "cell_type": "markdown",
      "source": [
        "STEP 2A: INTEGER CATEGORIZATION"
      ],
      "metadata": {
        "id": "vaTiMQbp0GQo"
      }
    },
    {
      "cell_type": "code",
      "source": [
        "# Categorize Turbidity into 3 levels\n",
        "df['turbidity_category'] = pd.cut(df['Turbidity'], bins=3, labels=['Low', 'Medium', 'High'])\n",
        "df['turbidity_cat_num'] = pd.Categorical(df['turbidity_category']).codes\n",
        "\n",
        "# Categorize Hardness into 4 levels\n",
        "df['hardness_category'] = pd.cut(df['Hardness'], bins=4, labels=['Soft', 'Moderate', 'Hard', 'Very_Hard'])\n",
        "df['hardness_cat_num'] = pd.Categorical(df['hardness_category']).codes\n",
        "\n",
        "# Categorize pH into acid/neutral/basic levels\n",
        "df['ph_category'] = pd.cut(df['ph'], bins=[0, 6.5, 7.5, 14], labels=['Acidic', 'Neutral', 'Basic'])\n",
        "df['ph_cat_num'] = pd.Categorical(df['ph_category']).codes\n",
        "\n",
        "# Categorize Chloramines levels\n",
        "df['chloramines_category'] = pd.cut(df['Chloramines'], bins=3, labels=['Low', 'Medium', 'High'])\n",
        "df['chloramines_cat_num'] = pd.Categorical(df['chloramines_category']).codes\n",
        "\n",
        "print(\"Integer categorization completed:\")\n",
        "print(f\"- Turbidity categories: {df['turbidity_cat_num'].value_counts().sort_index()}\")\n",
        "print(f\"- Hardness categories: {df['hardness_cat_num'].value_counts().sort_index()}\")\n",
        "print(f\"- pH categories: {df['ph_cat_num'].value_counts().sort_index().to_dict()}\")\n",
        "print(f\"- Chloramines categories: {df['chloramines_cat_num'].value_counts().sort_index().to_dict()}\")"
      ],
      "metadata": {
        "colab": {
          "base_uri": "https://localhost:8080/"
        },
        "id": "MaLYeQDfvvZo",
        "outputId": "c68e4d86-5dd1-41dc-d121-74883d45afca"
      },
      "execution_count": 10,
      "outputs": [
        {
          "output_type": "stream",
          "name": "stdout",
          "text": [
            "Integer categorization completed:\n",
            "- Turbidity categories: turbidity_cat_num\n",
            "0     554\n",
            "1    2392\n",
            "2     330\n",
            "Name: count, dtype: int64\n",
            "- Hardness categories: hardness_cat_num\n",
            "0      41\n",
            "1    1100\n",
            "2    2001\n",
            "3     134\n",
            "Name: count, dtype: int64\n",
            "- pH categories: {-1: 1, 0: 967, 1: 1249, 2: 1059}\n",
            "- Chloramines categories: {0: 181, 1: 2671, 2: 424}\n"
          ]
        }
      ]
    },
    {
      "cell_type": "markdown",
      "source": [
        "STEP 2B: NORMALIZATION\n"
      ],
      "metadata": {
        "id": "VflCsV-I0Iw9"
      }
    },
    {
      "cell_type": "code",
      "source": [
        "# Normalization of numerical features\n",
        "scaler = StandardScaler()\n",
        "exclude_from_scaling = ['Potability', 'target_variable', 'turbidity_category', 'pH_quartiles',\n",
        "                       'hardness_category', 'turbidity_cat_num', 'hardness_cat_num',\n",
        "                       'ph_category', 'ph_cat_num', 'chloramines_category', 'chloramines_cat_num']\n",
        "feature_cols = [col for col in df.columns if col not in exclude_from_scaling]\n",
        "df_scaled = df.copy()\n",
        "df_scaled[feature_cols] = scaler.fit_transform(df[feature_cols])\n",
        "\n",
        "print(\"Features normalized using StandardScaler:\")\n",
        "print(f\"Normalized features: {feature_cols}\")"
      ],
      "metadata": {
        "colab": {
          "base_uri": "https://localhost:8080/"
        },
        "id": "A_-dBroUvveF",
        "outputId": "1a7826d5-084b-4f93-8539-e84ace927385"
      },
      "execution_count": 11,
      "outputs": [
        {
          "output_type": "stream",
          "name": "stdout",
          "text": [
            "Features normalized using StandardScaler:\n",
            "Normalized features: ['ph', 'Hardness', 'Solids', 'Chloramines', 'Sulfate', 'Conductivity', 'Organic_carbon', 'Trihalomethanes', 'Turbidity', 'pH_4class']\n"
          ]
        }
      ]
    },
    {
      "cell_type": "markdown",
      "source": [
        "## REQUIREMENT 3: FEATURE ENGINEERING BASED ON EDA"
      ],
      "metadata": {
        "id": "GU249YT00VLY"
      }
    },
    {
      "cell_type": "code",
      "source": [
        "# Create composite features based on EDA correlations and domain knowledge\n",
        "print(\"Creating composite features based on EDA insights:\")\n",
        "\n",
        "# Ratio features (based on correlation analysis)\n",
        "df_scaled['ph_hardness_ratio'] = df_scaled['ph'] / (df_scaled['Hardness'] + 0.001)\n",
        "df_scaled['solids_conductivity_ratio'] = df_scaled['Solids'] / (df_scaled['Conductivity'] + 0.001)\n",
        "df_scaled['chloramines_sulfate_ratio'] = df_scaled['Chloramines'] / (df_scaled['Sulfate'] + 0.001)\n",
        "\n",
        "# Product features (interaction effects)\n",
        "df_scaled['organic_carbon_trihalomethanes_product'] = df_scaled['Organic_carbon'] * df_scaled['Trihalomethanes']\n",
        "df_scaled['ph_conductivity_interaction'] = df_scaled['ph'] * df_scaled['Conductivity']\n",
        "\n",
        "# Categorical features as integers\n",
        "df_scaled['turbidity_cat_num'] = df['turbidity_cat_num']\n",
        "df_scaled['hardness_cat_num'] = df['hardness_cat_num']\n",
        "# Add the new categorical features to scaled dataframe\n",
        "df_scaled['ph_cat_num'] = df['ph_cat_num']\n",
        "df_scaled['chloramines_cat_num'] = df['chloramines_cat_num']\n",
        "\n",
        "engineered_features = ['ph_hardness_ratio', 'solids_conductivity_ratio', 'chloramines_sulfate_ratio',\n",
        "                      'organic_carbon_trihalomethanes_product', 'ph_conductivity_interaction',\n",
        "                      'turbidity_cat_num', 'hardness_cat_num', 'ph_cat_num', 'chloramines_cat_num']\n",
        "\n",
        "print(\"New engineered features created:\")\n",
        "for i, feature in enumerate(engineered_features, 1):\n",
        "    print(f\"{i}. {feature}\")"
      ],
      "metadata": {
        "colab": {
          "base_uri": "https://localhost:8080/"
        },
        "id": "FC5-Ovthvvib",
        "outputId": "cdc87f39-125d-4403-bf1e-50ea06f3aed1"
      },
      "execution_count": 12,
      "outputs": [
        {
          "output_type": "stream",
          "name": "stdout",
          "text": [
            "Creating composite features based on EDA insights:\n",
            "New engineered features created:\n",
            "1. ph_hardness_ratio\n",
            "2. solids_conductivity_ratio\n",
            "3. chloramines_sulfate_ratio\n",
            "4. organic_carbon_trihalomethanes_product\n",
            "5. ph_conductivity_interaction\n",
            "6. turbidity_cat_num\n",
            "7. hardness_cat_num\n",
            "8. ph_cat_num\n",
            "9. chloramines_cat_num\n"
          ]
        }
      ]
    },
    {
      "cell_type": "markdown",
      "source": [
        "# REQUIREMENT 4: CREATE 5 FEATURE SETS & DECISION TREE COMPARISON"
      ],
      "metadata": {
        "id": "bZeRdCVoz7jE"
      }
    },
    {
      "cell_type": "code",
      "source": [
        "# Define original features\n",
        "original_features = ['ph', 'Hardness', 'Solids', 'Chloramines', 'Sulfate',\n",
        "                    'Conductivity', 'Organic_carbon', 'Trihalomethanes', 'Turbidity']\n",
        "\n",
        "# Get top correlated features with target\n",
        "available_features = [col for col in df_scaled.columns if col not in ['Potability', 'target_variable',\n",
        "                     'turbidity_category', 'pH_quartiles', 'hardness_category', 'ph_category', 'chloramines_category']]\n",
        "target_corr = abs(df_scaled[available_features + [target_col]].corr()[target_col]).sort_values(ascending=False)\n",
        "top_corr_features = target_corr.drop(target_col).head(5).index.tolist()"
      ],
      "metadata": {
        "id": "5o7_xnZqwP8V"
      },
      "execution_count": 13,
      "outputs": []
    },
    {
      "cell_type": "markdown",
      "source": [
        "STEP 4A: DEFINE 5 FEATURE SETS"
      ],
      "metadata": {
        "id": "V3Dp18cr1JTi"
      }
    },
    {
      "cell_type": "code",
      "source": [
        "# Updated feature_sets with more comprehensive sets\n",
        "feature_sets = {\n",
        "    'Set1_Original_9Features': original_features,\n",
        "    'Set2_Top5Correlated': top_corr_features,\n",
        "    'Set3_Original_Plus_Ratios': original_features + ['ph_hardness_ratio', 'solids_conductivity_ratio', 'chloramines_sulfate_ratio'],\n",
        "    'Set4_Engineered_Features': ['ph_hardness_ratio', 'organic_carbon_trihalomethanes_product', 'turbidity_cat_num', 'hardness_cat_num', 'ph_conductivity_interaction'],\n",
        "    'Set5_Best_Mixed': ['Sulfate', 'Conductivity', 'Organic_carbon', 'ph_hardness_ratio', 'organic_carbon_trihalomethanes_product', 'turbidity_cat_num'],\n",
        "    'Set6_All_Categorical': ['turbidity_cat_num', 'hardness_cat_num', 'ph_cat_num', 'chloramines_cat_num']  # NEW SET\n",
        "}\n",
        "\n",
        "print(\"Feature sets defined:\")\n",
        "for i, (name, features) in enumerate(feature_sets.items(), 1):\n",
        "    print(f\"{i}. {name}: {len(features)} features\")\n",
        "    print(f\"   Features: {features}\")"
      ],
      "metadata": {
        "colab": {
          "base_uri": "https://localhost:8080/"
        },
        "id": "qfDjyPXXwQEL",
        "outputId": "6f773ea8-34ba-4ebd-dc78-b66e179b7962"
      },
      "execution_count": 14,
      "outputs": [
        {
          "output_type": "stream",
          "name": "stdout",
          "text": [
            "Feature sets defined:\n",
            "1. Set1_Original_9Features: 9 features\n",
            "   Features: ['ph', 'Hardness', 'Solids', 'Chloramines', 'Sulfate', 'Conductivity', 'Organic_carbon', 'Trihalomethanes', 'Turbidity']\n",
            "2. Set2_Top5Correlated: 5 features\n",
            "   Features: ['Solids', 'Organic_carbon', 'chloramines_cat_num', 'Chloramines', 'ph_hardness_ratio']\n",
            "3. Set3_Original_Plus_Ratios: 12 features\n",
            "   Features: ['ph', 'Hardness', 'Solids', 'Chloramines', 'Sulfate', 'Conductivity', 'Organic_carbon', 'Trihalomethanes', 'Turbidity', 'ph_hardness_ratio', 'solids_conductivity_ratio', 'chloramines_sulfate_ratio']\n",
            "4. Set4_Engineered_Features: 5 features\n",
            "   Features: ['ph_hardness_ratio', 'organic_carbon_trihalomethanes_product', 'turbidity_cat_num', 'hardness_cat_num', 'ph_conductivity_interaction']\n",
            "5. Set5_Best_Mixed: 6 features\n",
            "   Features: ['Sulfate', 'Conductivity', 'Organic_carbon', 'ph_hardness_ratio', 'organic_carbon_trihalomethanes_product', 'turbidity_cat_num']\n",
            "6. Set6_All_Categorical: 4 features\n",
            "   Features: ['turbidity_cat_num', 'hardness_cat_num', 'ph_cat_num', 'chloramines_cat_num']\n"
          ]
        }
      ]
    },
    {
      "cell_type": "markdown",
      "source": [
        "STEP 4B: TRAIN DECISION TREE MODELS"
      ],
      "metadata": {
        "id": "2rk-pEUu1OE0"
      }
    },
    {
      "cell_type": "code",
      "source": [
        "# Prepare data for modeling\n",
        "X_all = df_scaled[available_features]\n",
        "y = df_scaled[target_col]\n",
        "\n",
        "print(f\"Using '{target_col}' as target variable\")\n",
        "print(f\"Target distribution: {y.value_counts().sort_index().to_dict()}\")"
      ],
      "metadata": {
        "colab": {
          "base_uri": "https://localhost:8080/"
        },
        "id": "VPyLQrpjwQIi",
        "outputId": "1487f0b9-1f4b-4095-d79e-9d373161e9c8"
      },
      "execution_count": 15,
      "outputs": [
        {
          "output_type": "stream",
          "name": "stdout",
          "text": [
            "Using 'Potability' as target variable\n",
            "Target distribution: {0: 1998, 1: 1278}\n"
          ]
        }
      ]
    },
    {
      "cell_type": "code",
      "source": [
        "# Train and compare models\n",
        "results = []\n",
        "for set_name, features in feature_sets.items():\n",
        "    print(f\"\\nTraining {set_name}...\")\n",
        "\n",
        "    # Select available features\n",
        "    available_set_features = [f for f in features if f in X_all.columns]\n",
        "    X_subset = X_all[available_set_features]\n",
        "\n",
        "    # Split data\n",
        "    X_train, X_test, y_train, y_test = train_test_split(\n",
        "        X_subset, y, test_size=0.3, random_state=42, stratify=y\n",
        "    )\n",
        "\n",
        "    # Train decision tree\n",
        "    dt = DecisionTreeClassifier(\n",
        "        random_state=42,\n",
        "        max_depth=10,\n",
        "        min_samples_split=10,\n",
        "        min_samples_leaf=5\n",
        "    )\n",
        "    dt.fit(X_train, y_train)\n",
        "\n",
        "    # Make predictions\n",
        "    y_pred = dt.predict(X_test)\n",
        "    accuracy = accuracy_score(y_test, y_pred)\n",
        "\n",
        "    # Store results (enhanced version)\n",
        "    results.append({\n",
        "        'Feature_Set': set_name,\n",
        "        'Num_Features': len(available_set_features),\n",
        "        'Features_Used': ', '.join(available_set_features[:3]) + ('...' if len(available_set_features) > 3 else ''),\n",
        "        'Accuracy': round(accuracy, 4),\n",
        "        'Tree_Depth': dt.get_depth(),\n",
        "        'Num_Leaves': dt.get_n_leaves(),\n",
        "        'Top_Feature': available_set_features[np.argmax(dt.feature_importances_)],  # NEW\n",
        "        'Feature_Importance': round(max(dt.feature_importances_), 4)  # NEW\n",
        "    })\n",
        "\n",
        "    print(f\" {set_name}: Accuracy = {accuracy:.4f}\")"
      ],
      "metadata": {
        "colab": {
          "base_uri": "https://localhost:8080/"
        },
        "id": "4-LgZDR2xSjl",
        "outputId": "3f39d22c-20cb-45c8-906d-faa3df65204a"
      },
      "execution_count": 16,
      "outputs": [
        {
          "output_type": "stream",
          "name": "stdout",
          "text": [
            "\n",
            "Training Set1_Original_9Features...\n",
            " Set1_Original_9Features: Accuracy = 0.6338\n",
            "\n",
            "Training Set2_Top5Correlated...\n",
            " Set2_Top5Correlated: Accuracy = 0.5788\n",
            "\n",
            "Training Set3_Original_Plus_Ratios...\n",
            " Set3_Original_Plus_Ratios: Accuracy = 0.6419\n",
            "\n",
            "Training Set4_Engineered_Features...\n",
            " Set4_Engineered_Features: Accuracy = 0.5921\n",
            "\n",
            "Training Set5_Best_Mixed...\n",
            " Set5_Best_Mixed: Accuracy = 0.5972\n",
            "\n",
            "Training Set6_All_Categorical...\n",
            " Set6_All_Categorical: Accuracy = 0.6073\n"
          ]
        }
      ]
    },
    {
      "cell_type": "markdown",
      "source": [
        "STEP 4C: COMPARISON RESULTS TABLE"
      ],
      "metadata": {
        "id": "k9aXEwdA1S9e"
      }
    },
    {
      "cell_type": "code",
      "source": [
        "# Display results table\n",
        "results_df = pd.DataFrame(results)\n",
        "results_df = results_df.sort_values('Accuracy', ascending=False)\n",
        "print(\"FINAL COMPARISON TABLE:\")\n",
        "print(results_df.to_string(index=False))"
      ],
      "metadata": {
        "colab": {
          "base_uri": "https://localhost:8080/"
        },
        "id": "N_hxjXCkxSpq",
        "outputId": "c2691205-2c1c-4fa8-d8a6-03afcba1f73d"
      },
      "execution_count": 17,
      "outputs": [
        {
          "output_type": "stream",
          "name": "stdout",
          "text": [
            "FINAL COMPARISON TABLE:\n",
            "              Feature_Set  Num_Features                                                                   Features_Used  Accuracy  Tree_Depth  Num_Leaves       Top_Feature  Feature_Importance\n",
            "Set3_Original_Plus_Ratios            12                                                         ph, Hardness, Solids...    0.6419          10         114           Sulfate              0.1623\n",
            "  Set1_Original_9Features             9                                                         ph, Hardness, Solids...    0.6338          10         125           Sulfate              0.1987\n",
            "     Set6_All_Categorical             4                              turbidity_cat_num, hardness_cat_num, ph_cat_num...    0.6073           9          57        ph_cat_num              0.4643\n",
            "          Set5_Best_Mixed             6                                        Sulfate, Conductivity, Organic_carbon...    0.5972          10          94 ph_hardness_ratio              0.2986\n",
            " Set4_Engineered_Features             5 ph_hardness_ratio, organic_carbon_trihalomethanes_product, turbidity_cat_num...    0.5921          10          95 ph_hardness_ratio              0.3293\n",
            "      Set2_Top5Correlated             5                                  Solids, Organic_carbon, chloramines_cat_num...    0.5788          10         108 ph_hardness_ratio              0.3417\n"
          ]
        }
      ]
    },
    {
      "cell_type": "code",
      "source": [
        "# Best model analysis\n",
        "best_model = results_df.iloc[0]\n",
        "print(f\"\\nBEST PERFORMING MODEL:\")\n",
        "print(f\"Feature Set: {best_model['Feature_Set']}\")\n",
        "print(f\"Accuracy: {best_model['Accuracy']}\")\n",
        "print(f\"Number of Features: {best_model['Num_Features']}\")\n",
        "print(f\"Most Important Feature: {best_model['Top_Feature']} ({best_model['Feature_Importance']})\")"
      ],
      "metadata": {
        "colab": {
          "base_uri": "https://localhost:8080/"
        },
        "id": "sdKshKynxSr5",
        "outputId": "11dec103-7445-4be0-f945-5fd1bea4eb6d"
      },
      "execution_count": 18,
      "outputs": [
        {
          "output_type": "stream",
          "name": "stdout",
          "text": [
            "\n",
            "BEST PERFORMING MODEL:\n",
            "Feature Set: Set3_Original_Plus_Ratios\n",
            "Accuracy: 0.6419\n",
            "Number of Features: 12\n",
            "Most Important Feature: Sulfate (0.1623)\n"
          ]
        }
      ]
    },
    {
      "cell_type": "markdown",
      "source": [
        "## SUMMARY OF OBSERVATIONS\n",
        "Key findings from the model comparison:\n",
        "1. Feature engineering impact on model performance\n",
        "2. Original vs engineered features effectiveness\n",
        "3. Optimal number of features for this dataset\n",
        "4. Class balancing effect on model accuracy\n",
        "5. Decision tree complexity vs performance trade-off"
      ],
      "metadata": {
        "id": "ccREosCGx7p6"
      }
    },
    {
      "cell_type": "code",
      "source": [],
      "metadata": {
        "id": "i_FaGnhaxSuO"
      },
      "execution_count": 18,
      "outputs": []
    }
  ]
}